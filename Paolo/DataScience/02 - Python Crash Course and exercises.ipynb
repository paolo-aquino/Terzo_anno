{
 "cells": [
  {
   "cell_type": "markdown",
   "metadata": {},
   "source": [
    "# Python Crash Course\n",
    "\n",
    "![](https://imgs.xkcd.com/comics/python.png)\n",
    "\n",
    "(Note: in python 3, Hello World is `print(\"Hello, world!\")`, with the parenthesis.)"
   ]
  },
  {
   "cell_type": "markdown",
   "metadata": {},
   "source": [
    "## Instructions\n",
    "Write the Python program in the cell below the exercise text (or create a new one using the \"+\" button in the top left). Always print the final result to the screen to verify the correctness of the exercise. Sometimes we recall some important concepts in a code cell below the exercise text, try running it and possibly modifying it to make sure you've understood the necessary points.\n",
    "\n",
    "Tip: to run a code cell, press `CTRL+Enter` while the cell is selected.\n",
    "\n",
    "Remember: all previously assigned variables remain in memory! If you wish, you can reset the memory state by running from the menu above: `Kernel -> Restart & Clear Outputs`.\n",
    "\n",
    "## Submission\n",
    "For all exercises, it is mandatory to **submit the solution to all exercises** (except those marked as optional) **before the start of the next lesson**, in the appropriate assignment on iCorsi. To submit:\n",
    "- Run the entire notebook from the beginning (`Kernel -> Restart & Run All`), and check that the solutions are as expected;\n",
    "- Export the notebook in HTML format (`File -> Download as...`) and submit the resulting file.\n",
    "\n",
    "If you were unable to complete one or more exercises, describe the issue encountered and **submit the file with the rest of the solutions** anyway.\n",
    "\n",
    "## Solutions\n",
    "During the next lesson, the solutions to the exercises will be published (and possibly discussed). Always review them and compare them with yours. If something is unclear, contact the instructors via email.\n",
    "\n",
    "## Where to look for help\n",
    "Almost everything we need is written somewhere in here: [Python tutorial](https://docs.python.org/3.10/tutorial/index.html). Particularly of interest for now: [Basics](https://docs.python.org/3.10/tutorial/introduction.html), [Control Flow](https://docs.python.org/3.10/tutorial/controlflow.html) (if, for, while...), [Data Structures](https://docs.python.org/3.10/tutorial/datastructures.html) (lists, sets, dicts). [Here](https://docs.python.org/3.10/tutorial/inputoutput.html#fancier-output-formatting) you can find a lot of info on string formatting. If needed, [here](https://docs.python.org/3.10/library/index.html) is the full documentation of the standard library. To search for a keyword in the documentation, use the quick search box in the top right.\n",
    "\n",
    "Or use Google. Be careful in this case that we are using Python 3. Until a few years ago, Python 2 was still more common, so you may find some suggestions for that version. For example, in Python 2, `print` did not need parentheses.\n",
    "\n",
    "### Tips\n",
    "\n",
    "- `CTRL+ENTER`: Run the current cell\n",
    "- `Kernel > Restart kernel and clear all outputs...`: resets the notebook to its initial state, forgetting all variables\n",
    "- \"Play\" icon: run this cell and continue\n",
    "- \"Stop\" icon: interrupt execution\n",
    "- \"Fast forward\" icon: reset the kernel and run the entire notebook\n",
    "- \"+\" icon: add a cell below the current one\n",
    "\n",
    "You can change the type of a cell (Markdown or code) using the appropriate dropdown (usually, it won't be necessary to do this)."
   ]
  },
  {
   "cell_type": "markdown",
   "metadata": {},
   "source": [
    "## Easy Warm-Up Exercises\n",
    "To get a bit familiar with the language.\n",
    "If you don't know how to use f-strings, read [this tutorial](https://realpython.com/python-f-strings/).\n",
    "\n",
    "### 0.1\n",
    "Ask the user for their name, then greet them."
   ]
  },
  {
   "cell_type": "code",
   "execution_count": 1,
   "metadata": {},
   "outputs": [
    {
     "name": "stdout",
     "output_type": "stream",
     "text": [
      "The answer is ciao\n"
     ]
    }
   ],
   "source": [
    "# Hints\n",
    "answer = input(\"Question? \") # Get input (string) from user\n",
    "print(f\"The answer is {answer}\") # Format a string"
   ]
  },
  {
   "cell_type": "code",
   "execution_count": 2,
   "metadata": {},
   "outputs": [
    {
     "name": "stdout",
     "output_type": "stream",
     "text": [
      "Name: paolo aquino\n"
     ]
    }
   ],
   "source": [
    "# Solution\n",
    "name = input(\"Insert your name. \")\n",
    "print(f\"Name: {name}\")"
   ]
  },
  {
   "cell_type": "markdown",
   "metadata": {},
   "source": [
    "### 0.2\n",
    "Greet the user N times, where N is decided by the user.\n"
   ]
  },
  {
   "cell_type": "code",
   "execution_count": 3,
   "metadata": {},
   "outputs": [
    {
     "name": "stdout",
     "output_type": "stream",
     "text": [
      "<class 'str'> <class 'int'>\n",
      "0\n",
      "1\n",
      "2\n",
      "3\n",
      "4\n"
     ]
    }
   ],
   "source": [
    "# Hints\n",
    "string_variable = \"5\"\n",
    "integer_variable = int(string_variable) # cast\n",
    "print(type(string_variable), type(integer_variable))\n",
    "\n",
    "# this works...\n",
    "for i in range(integer_variable):\n",
    "    print(i)\n",
    "    \n",
    "# this does not work!\n",
    "#for i in range(string_variable):\n",
    "#    print(i)"
   ]
  },
  {
   "cell_type": "code",
   "execution_count": 4,
   "metadata": {},
   "outputs": [
    {
     "name": "stdout",
     "output_type": "stream",
     "text": [
      "Hello User!\n",
      "Hello User!\n",
      "Hello User!\n",
      "Hello User!\n",
      "Hello User!\n",
      "Hello User!\n",
      "Hello User!\n",
      "Hello User!\n",
      "Hello User!\n",
      "Hello User!\n",
      "Hello User!\n",
      "Hello User!\n"
     ]
    }
   ],
   "source": [
    "# Solution\n",
    "N = input(\"Insert N. \")\n",
    "\n",
    "for i in range(int(N)):\n",
    "    print(\"Hello User!\")"
   ]
  },
  {
   "cell_type": "markdown",
   "metadata": {},
   "source": [
    "### 0.3\n",
    "Print a 5x5 matrix like this, using two nested for loops.\n",
    "```\n",
    "1  2  3  4  5\n",
    "2  4  6  8 10\n",
    "3  6  9 12 15\n",
    "4  8 12 16 20\n",
    "5 10 15 20 25\n",
    "```"
   ]
  },
  {
   "cell_type": "code",
   "execution_count": 5,
   "metadata": {},
   "outputs": [
    {
     "name": "stdout",
     "output_type": "stream",
     "text": [
      "1 2\n",
      "1\t2\t3\t4\n",
      "a = 2; b = 3; a + b = 5\n"
     ]
    }
   ],
   "source": [
    "# Hints\n",
    "print(\"1 \", end=\"\") # Does not print the newline at the end\n",
    "print(\"2\") # By default prints the newline at the end\n",
    "print(\"1\\t2\\t3\\t4\") # \\t is a tab character, like in Java\n",
    "a = 2\n",
    "b = 3\n",
    "print(f\"a = {a}; b = {b}; a + b = {a+b}\") # Inside {} you can put any expression!\n"
   ]
  },
  {
   "cell_type": "code",
   "execution_count": 6,
   "metadata": {},
   "outputs": [
    {
     "name": "stdout",
     "output_type": "stream",
     "text": [
      "1\t2\t3\t4\t5\t\n",
      "2\t4\t6\t8\t10\t\n",
      "3\t6\t9\t12\t15\t\n",
      "4\t8\t12\t16\t20\t\n",
      "5\t10\t15\t20\t25\t\n"
     ]
    }
   ],
   "source": [
    "# Solution\n",
    "for i in range(1,6):\n",
    "    for j in range(1, 6):\n",
    "        print(f\"{j*i}\", end=\"\\t\")\n",
    "    print(\"\")"
   ]
  },
  {
   "cell_type": "markdown",
   "metadata": {},
   "source": [
    "### 0.4 Fizz\n",
    "Print the numbers from 1 to 20, one per line. But if the number is divisible by 3, print \"Fizz\" instead of the number. Use the `%` operator to get the remainder of the division between two integers, as in Java. If you want, learn the functionalities of `range` by reading its [documentation](https://docs.python.org/3.6/library/stdtypes.html?highlight=range#range) (especially the examples)."
   ]
  },
  {
   "cell_type": "code",
   "execution_count": 7,
   "metadata": {},
   "outputs": [
    {
     "name": "stdout",
     "output_type": "stream",
     "text": [
      "1\n",
      "2\n",
      "Fizz\n",
      "4\n",
      "5\n",
      "Fizz\n",
      "7\n",
      "8\n",
      "Fizz\n",
      "10\n",
      "11\n",
      "Fizz\n",
      "13\n",
      "14\n",
      "Fizz\n",
      "16\n",
      "17\n",
      "Fizz\n",
      "19\n",
      "20\n"
     ]
    }
   ],
   "source": [
    "# Solution\n",
    "for i in range(1,21):\n",
    "    if (i % 3 == 0):\n",
    "        print(\"Fizz\")\n",
    "    else:\n",
    "        print(i)"
   ]
  },
  {
   "cell_type": "markdown",
   "metadata": {},
   "source": [
    "### 0.5 Fizz Buzz\n",
    "![](https://cdn-images-1.medium.com/max/1600/1*lPfdDAivK_QNzqknqLCP8w.png)\n",
    "\n",
    "Print the numbers from 1 to 20, one per line. But:\n",
    "- if the number is divisible by 3, print `Fizz!` instead of the number;\n",
    "- if the number is divisible by 5, print `Buzz!` instead of the number;\n",
    "- if the number is divisible by both 3 and 5, print `FizzBuzz!` instead of the number.\n",
    "\n",
    "It seems simple, but [don't take it too much for granted](https://blog.codinghorror.com/why-cant-programmers-program/).\n"
   ]
  },
  {
   "cell_type": "code",
   "execution_count": 8,
   "metadata": {},
   "outputs": [
    {
     "name": "stdout",
     "output_type": "stream",
     "text": [
      "Yes\n"
     ]
    }
   ],
   "source": [
    "# Hint\n",
    "a = 5\n",
    "if (a > 3) and (a < 7):\n",
    "    print(\"Yes\")\n",
    "else:\n",
    "    print(\"No\")"
   ]
  },
  {
   "cell_type": "code",
   "execution_count": 9,
   "metadata": {},
   "outputs": [
    {
     "name": "stdout",
     "output_type": "stream",
     "text": [
      "1\n",
      "2\n",
      "Fizz!\n",
      "4\n",
      "Buzz!\n",
      "Fizz!\n",
      "7\n",
      "8\n",
      "Fizz!\n",
      "Buzz!\n",
      "11\n",
      "Fizz!\n",
      "13\n",
      "14\n",
      "FizzBuzz!\n",
      "16\n",
      "17\n",
      "Fizz!\n",
      "19\n",
      "Buzz!\n"
     ]
    }
   ],
   "source": [
    "# Solution\n",
    "for i in range(1,21):\n",
    "    if (i % 3 == 0) and (i % 5 == 0):\n",
    "        print(\"FizzBuzz!\")\n",
    "    elif (i % 3 == 0):\n",
    "        print(\"Fizz!\")\n",
    "    elif (i % 5 == 0):\n",
    "        print(\"Buzz!\")\n",
    "    else:\n",
    "        print(i)"
   ]
  },
  {
   "cell_type": "markdown",
   "metadata": {},
   "source": [
    "### 0.6 f-strings\n",
    "\n",
    "Complete the cell below (read the documentation on f-strings!) so that it prints:\n",
    "```\n",
    "We are traveling at 98.13 km/h (81.8% of the maximum speed)\n",
    "```"
   ]
  },
  {
   "cell_type": "code",
   "execution_count": 10,
   "metadata": {},
   "outputs": [
    {
     "name": "stdout",
     "output_type": "stream",
     "text": [
      "We are travelling at 98.13 km/h (81.8% of the maximum speed)\n"
     ]
    }
   ],
   "source": [
    "max_speed = 120  # km/h\n",
    "current_speed = 98.128214\n",
    "# Complete ...\n",
    "print(f\"We are travelling at {current_speed:.2f} km/h ({(current_speed/(max_speed/100)):.1f}% of the maximum speed)\") "
   ]
  },
  {
   "cell_type": "markdown",
   "metadata": {},
   "source": [
    "## Exercise 1 (lists)\n",
    "The Fibonacci sequence is a series of integers where the first two elements are 1, and the subsequent elements are given by the sum of the two preceding ones (e.g., `[1, 1, 2, 3, 5, 8, 13, 21...]`)\n",
    "\n",
    "![Fibonacci](https://images.wired.it/wp-content/uploads/2017/11/23130621/1511435180_Fibonacci-1050x590.jpg)\n",
    "([info](https://www.wired.it/play/cultura/2017/11/23/fibonacci-day-numeri/))\n",
    "\n",
    "### 1.1\n",
    "Write a program that generates a list (which we will call `listFib`) containing the Fibonacci sequence with all numbers less than or equal to $200$ (in other words, the last element of the list should be a number less than or equal to $200$). Hint: initialize the list with the first two elements `listFib = [1, 1]` and then extend it. _How many elements does the list contain?_"
   ]
  },
  {
   "cell_type": "code",
   "execution_count": 11,
   "metadata": {},
   "outputs": [
    {
     "name": "stdout",
     "output_type": "stream",
     "text": [
      "3\n",
      "[10, 20, 30, 40]\n",
      "Adding an element to the list\n",
      "Adding an element to the list\n",
      "Exiting the while loop\n",
      "[10, 20, 30, 40, 'New element', 'New element']\n",
      "The first element of the list is 10\n",
      "The third-to-last element of the list is 40\n"
     ]
    }
   ],
   "source": [
    "# Hint \n",
    "list = [10, 20, 30]\n",
    "print(len(list)) # Length of the list (an int)\n",
    "\n",
    "list.append(40)  # Add element to a list \n",
    "print(list)\n",
    "\n",
    "while(True):\n",
    "    if len(list) < 6:\n",
    "        print(\"Adding an element to the list\")\n",
    "        list.append(\"New element\")\n",
    "    else:\n",
    "        print('Exiting the while loop')\n",
    "        break # Exit the while loop\n",
    "        \n",
    "print(list) # Note that the list can contain any type\n",
    "\n",
    "print(f\"The first element of the list is {list[0]}\")\n",
    "print(f\"The third-to-last element of the list is {list[-3]}\")"
   ]
  },
  {
   "cell_type": "code",
   "execution_count": 12,
   "metadata": {},
   "outputs": [
    {
     "name": "stdout",
     "output_type": "stream",
     "text": [
      "10\n",
      "20\n",
      "30\n",
      "40\n",
      "New element\n",
      "New element\n"
     ]
    }
   ],
   "source": [
    "# Hint: how to iterate over a list:\n",
    "for elem in list:  # No need to define an index i!\n",
    "    print(elem)"
   ]
  },
  {
   "cell_type": "code",
   "execution_count": 13,
   "metadata": {},
   "outputs": [
    {
     "data": {
      "text/plain": [
       "[1, 1, 2, 3, 5, 8, 13, 21, 34, 55, 89, 144]"
      ]
     },
     "execution_count": 13,
     "metadata": {},
     "output_type": "execute_result"
    }
   ],
   "source": [
    "#Solution\n",
    "listFib = [1, 1]\n",
    "while True:\n",
    "    fibonacci = listFib[-1] + listFib[-2]\n",
    "    \n",
    "    if fibonacci <= 200:\n",
    "        listFib.append(listFib[-1] + listFib[-2])\n",
    "    else:\n",
    "        break\n",
    "    \n",
    "listFib"
   ]
  },
  {
   "cell_type": "markdown",
   "metadata": {},
   "source": [
    "### 1.2\n",
    "Execute `listFib * 2` and examine the result. Do you understand what happened?\n",
    "\n",
    "And what happens if you execute `listFib * 1.5`?"
   ]
  },
  {
   "cell_type": "code",
   "execution_count": 14,
   "metadata": {},
   "outputs": [
    {
     "ename": "TypeError",
     "evalue": "can't multiply sequence by non-int of type 'float'",
     "output_type": "error",
     "traceback": [
      "\u001b[1;31m---------------------------------------------------------------------------\u001b[0m",
      "\u001b[1;31mTypeError\u001b[0m                                 Traceback (most recent call last)",
      "Cell \u001b[1;32mIn[14], line 5\u001b[0m\n\u001b[0;32m      2\u001b[0m listFib \u001b[38;5;241m*\u001b[39m \u001b[38;5;241m2\u001b[39m\n\u001b[0;32m      3\u001b[0m \u001b[38;5;66;03m# Appende tutti gli elementi sulla stessa lista\u001b[39;00m\n\u001b[1;32m----> 5\u001b[0m \u001b[43mlistFib\u001b[49m\u001b[43m \u001b[49m\u001b[38;5;241;43m*\u001b[39;49m\u001b[43m \u001b[49m\u001b[38;5;241;43m1.5\u001b[39;49m\n\u001b[0;32m      6\u001b[0m \u001b[38;5;66;03m# Python richiede un intero per sapere per quante volte ripetere la lista, in questo caso essendo un numero non intero non viene accettato\u001b[39;00m\n",
      "\u001b[1;31mTypeError\u001b[0m: can't multiply sequence by non-int of type 'float'"
     ]
    }
   ],
   "source": [
    "# Solution\n",
    "listFib * 2\n",
    "# Appende tutti gli elementi sulla stessa lista\n",
    "\n",
    "listFib * 1.5\n",
    "# Python richiede un intero per sapere per quante volte ripetere la lista, in questo caso essendo un numero non intero non viene accettato"
   ]
  },
  {
   "cell_type": "markdown",
   "metadata": {},
   "source": [
    "### 1.3\n",
    "Create a new list `listFib2`. Each element of the new list should be equal to the corresponding element of the list `listFib` multiplied by two.\n",
    "\n",
    "Hint: It is useful to initialize an empty list with the command `lista = []` (or, equivalently, `lista = list()`) and then fill it during the execution of the code with the command `lista.append(elemento)`."
   ]
  },
  {
   "cell_type": "code",
   "execution_count": 5,
   "metadata": {},
   "outputs": [
    {
     "data": {
      "text/plain": [
       "[2, 2, 4, 6, 10, 16, 26, 42, 68, 110, 178, 288]"
      ]
     },
     "execution_count": 5,
     "metadata": {},
     "output_type": "execute_result"
    }
   ],
   "source": [
    "# Solution\n",
    "listFib2 = []\n",
    "\n",
    "for element in range(len(listFib)):\n",
    "    listFib2.append(listFib[element] * 2)\n",
    "    \n",
    "listFib2"
   ]
  },
  {
   "cell_type": "markdown",
   "metadata": {},
   "source": [
    "### 1.4\n",
    "Generate a new list `listRatio` where the element at position $i$ is equal to $\\frac{listFib[i+1]}{listFib[i]}$."
   ]
  },
  {
   "cell_type": "code",
   "execution_count": 8,
   "metadata": {},
   "outputs": [
    {
     "data": {
      "text/plain": [
       "[1.0,\n",
       " 2.0,\n",
       " 1.5,\n",
       " 1.6666666666666667,\n",
       " 1.6,\n",
       " 1.625,\n",
       " 1.6153846153846154,\n",
       " 1.619047619047619,\n",
       " 1.6176470588235294,\n",
       " 1.6181818181818182,\n",
       " 1.6179775280898876]"
      ]
     },
     "execution_count": 8,
     "metadata": {},
     "output_type": "execute_result"
    }
   ],
   "source": [
    "# Solution\n",
    "listRatio = []\n",
    "\n",
    "for i in range(len(listFib) - 1):   \n",
    "    listRatio.append(listFib[i+1]/listFib[i])\n",
    "    \n",
    "listRatio"
   ]
  },
  {
   "cell_type": "markdown",
   "metadata": {},
   "source": [
    "### 1.5\n",
    "Generate a list `newList` that contains all numbers between 5 and 100 (inclusive) that do _not_ belong to the Fibonacci sequence.\n",
    "\n",
    "Hint: The `in` operator returns `True` if the element on the left is present in the list on the right; use `not in` to check if it is not present."
   ]
  },
  {
   "cell_type": "code",
   "execution_count": null,
   "metadata": {},
   "outputs": [],
   "source": [
    "# Hint\n",
    "print(1 in [1,2,3])\n",
    "print(0 in [1,2,3])\n",
    "print(0 not in [1,2,3])"
   ]
  },
  {
   "cell_type": "code",
   "execution_count": 13,
   "metadata": {},
   "outputs": [
    {
     "data": {
      "text/plain": [
       "[6,\n",
       " 7,\n",
       " 9,\n",
       " 10,\n",
       " 11,\n",
       " 12,\n",
       " 14,\n",
       " 15,\n",
       " 16,\n",
       " 17,\n",
       " 18,\n",
       " 19,\n",
       " 20,\n",
       " 22,\n",
       " 23,\n",
       " 24,\n",
       " 25,\n",
       " 26,\n",
       " 27,\n",
       " 28,\n",
       " 29,\n",
       " 30,\n",
       " 31,\n",
       " 32,\n",
       " 33,\n",
       " 35,\n",
       " 36,\n",
       " 37,\n",
       " 38,\n",
       " 39,\n",
       " 40,\n",
       " 41,\n",
       " 42,\n",
       " 43,\n",
       " 44,\n",
       " 45,\n",
       " 46,\n",
       " 47,\n",
       " 48,\n",
       " 49,\n",
       " 50,\n",
       " 51,\n",
       " 52,\n",
       " 53,\n",
       " 54,\n",
       " 56,\n",
       " 57,\n",
       " 58,\n",
       " 59,\n",
       " 60,\n",
       " 61,\n",
       " 62,\n",
       " 63,\n",
       " 64,\n",
       " 65,\n",
       " 66,\n",
       " 67,\n",
       " 68,\n",
       " 69,\n",
       " 70,\n",
       " 71,\n",
       " 72,\n",
       " 73,\n",
       " 74,\n",
       " 75,\n",
       " 76,\n",
       " 77,\n",
       " 78,\n",
       " 79,\n",
       " 80,\n",
       " 81,\n",
       " 82,\n",
       " 83,\n",
       " 84,\n",
       " 85,\n",
       " 86,\n",
       " 87,\n",
       " 88,\n",
       " 90,\n",
       " 91,\n",
       " 92,\n",
       " 93,\n",
       " 94,\n",
       " 95,\n",
       " 96,\n",
       " 97,\n",
       " 98,\n",
       " 99,\n",
       " 100]"
      ]
     },
     "execution_count": 13,
     "metadata": {},
     "output_type": "execute_result"
    }
   ],
   "source": [
    "# Solution\n",
    "newList = []\n",
    "\n",
    "for i in range(5, 101):\n",
    "    if(i not in listFib):\n",
    "        newList.append(i)\n",
    "    \n",
    "newList"
   ]
  },
  {
   "cell_type": "markdown",
   "metadata": {},
   "source": [
    "### 1.6\n",
    "Write a program that generates a list of lists (where each element of the list is itself a list). Specifically, the generated list should consist of 2 lists: the first containing all the even numbers from `listFib`, and the second containing all the odd numbers."
   ]
  },
  {
   "cell_type": "code",
   "execution_count": 10,
   "metadata": {},
   "outputs": [
    {
     "data": {
      "text/plain": [
       "[[2, 8, 34, 144], [1, 1, 3, 5, 13, 21, 55, 89]]"
      ]
     },
     "execution_count": 10,
     "metadata": {},
     "output_type": "execute_result"
    }
   ],
   "source": [
    "# Solution\n",
    "even = []\n",
    "odd = []\n",
    "\n",
    "for i in range(len(listFib)):\n",
    "    if(listFib[i] % 2 == 0):\n",
    "        even.append(listFib[i])\n",
    "    else:\n",
    "        odd.append(listFib[i])\n",
    "    \n",
    "list_of_list = [even, odd]\n",
    "\n",
    "list_of_list\n"
   ]
  },
  {
   "cell_type": "markdown",
   "metadata": {},
   "source": [
    "### 1.7 (opzionale)\n",
    "Similar to point 3. Given the list `listFib` generated in step 1, for all integer numbers from $5$ to $10$, check if the number is present in the list. If it is not present, add it to the list while maintaining the ascending order of the elements. If it is present, remove it from the list. Useful methods: `remove`, `insert`. See the cell below to understand how they work."
   ]
  },
  {
   "cell_type": "code",
   "execution_count": 11,
   "metadata": {},
   "outputs": [
    {
     "name": "stdout",
     "output_type": "stream",
     "text": [
      "[10, 13, 20, 30, 40, 60]\n",
      "[10, 13, 20, 40, 60]\n"
     ]
    }
   ],
   "source": [
    "# Hint\n",
    "list = [10, 20, 30, 40, 60]\n",
    "list.insert(1, 13) # Insert the number 13 at index position 1 \n",
    "print(list)\n",
    "\n",
    "list.remove(30) # Remove the number 30\n",
    "print(list)"
   ]
  },
  {
   "cell_type": "code",
   "execution_count": 54,
   "metadata": {},
   "outputs": [
    {
     "data": {
      "text/plain": [
       "[1, 1, 2, 3, 6, 7, 9, 10, 13, 21, 34, 55, 89, 144]"
      ]
     },
     "execution_count": 54,
     "metadata": {},
     "output_type": "execute_result"
    }
   ],
   "source": [
    "# Solution\n",
    "tmp = []\n",
    "\n",
    "for i in range(len(listFib)):\n",
    "    tmp.append(listFib[i])\n",
    "\n",
    "for i in range(5, 11):\n",
    "    for j in range(len(tmp)):\n",
    "        if(i == tmp[j]):\n",
    "            tmp.remove(tmp[j])\n",
    "            break\n",
    "        if(i < tmp[j]):\n",
    "            tmp.insert(j, i)\n",
    "            break\n",
    "tmp\n",
    "\n",
    "list = [5,6,7,8,9,10]\n",
    "    "
   ]
  },
  {
   "cell_type": "markdown",
   "metadata": {},
   "source": [
    "## Exercise 2 (dictionaries)\n",
    "Dictionaries are similar to HashMaps in Java and function in the same way. [Here](http://introtopython.org/dictionaries.html) you can find an excellent gradual introduction. They are used very frequently, so it's important to know how to manipulate them.\n",
    "\n",
    "### Very Quick Introduction."
   ]
  },
  {
   "cell_type": "code",
   "execution_count": 43,
   "metadata": {},
   "outputs": [
    {
     "name": "stdout",
     "output_type": "stream",
     "text": [
      "{'Manno': 1318, 'Bioggio': 2648, 'Lugano': 63932}\n"
     ]
    }
   ],
   "source": [
    "pop = dict() # Create an empty dictionary\n",
    "pop[\"Manno\"] = 1318 # Add key-value pair\n",
    "pop[\"Bioggio\"] = 2648\n",
    "pop[\"Lugano\"] = 63932\n",
    "# Equivalent:\n",
    "# pop = {\"Manno\" : 1318, \"Bioggio\" : 2648, \"Lugano\" : 63932}\n",
    "print(pop)"
   ]
  },
  {
   "cell_type": "code",
   "execution_count": 44,
   "metadata": {},
   "outputs": [
    {
     "name": "stdout",
     "output_type": "stream",
     "text": [
      "1318\n",
      "dict_keys(['Manno', 'Bioggio', 'Lugano'])\n",
      "True\n"
     ]
    }
   ],
   "source": [
    "print(pop[\"Manno\"]) # Query\n",
    "print(pop.keys()) # All keys: behaves like a list\n",
    "print(\"Lugano\" in pop.keys())"
   ]
  },
  {
   "cell_type": "code",
   "execution_count": 47,
   "metadata": {},
   "outputs": [
    {
     "name": "stdout",
     "output_type": "stream",
     "text": [
      "dict_items([('Manno', 1318), ('Bioggio', 2648), ('Lugano', 63932)])\n"
     ]
    }
   ],
   "source": [
    "print(pop.items()) # Returns a list of tuples, each containing two elements: key and value\n",
    "# To be precise, it is not a list, but an object that can be iterated as if it were a list"
   ]
  },
  {
   "cell_type": "code",
   "execution_count": 48,
   "metadata": {},
   "outputs": [
    {
     "name": "stdout",
     "output_type": "stream",
     "text": [
      "Key=Manno, Value=1318\n",
      "Key=Bioggio, Value=2648\n",
      "Key=Lugano, Value=63932\n"
     ]
    }
   ],
   "source": [
    "for tuple in pop.items(): # each element of the list-like object above\n",
    "    k = tuple[0]\n",
    "    v = tuple[1]\n",
    "    print(f\"Key={k}, Value={v}\")"
   ]
  },
  {
   "cell_type": "code",
   "execution_count": 49,
   "metadata": {},
   "outputs": [
    {
     "name": "stdout",
     "output_type": "stream",
     "text": [
      "Key=Manno, Value=1318\n",
      "Key=Bioggio, Value=2648\n",
      "Key=Lugano, Value=63932\n"
     ]
    }
   ],
   "source": [
    "# Even better (uses a very convenient function known as tuple unpacking)\n",
    "for tuple in pop.items():\n",
    "    k, v = tuple # assigns the first and second elements of tuple to k and v respectively\n",
    "    print(f\"Key={k}, Value={v}\")"
   ]
  },
  {
   "cell_type": "code",
   "execution_count": 50,
   "metadata": {},
   "outputs": [
    {
     "name": "stdout",
     "output_type": "stream",
     "text": [
      "Key=Manno, Value=1318\n",
      "Key=Bioggio, Value=2648\n",
      "Key=Lugano, Value=63932\n"
     ]
    }
   ],
   "source": [
    "# Even better\n",
    "for k, v in pop.items():\n",
    "    print(f\"Key={k}, Value={v}\")"
   ]
  },
  {
   "cell_type": "markdown",
   "metadata": {},
   "source": [
    "### 2.1\n",
    "Create a dictionary with at least 5 elements (generated as you like) where each person's name is associated with their age (specifically, each dictionary element should have the person's name as the key and their age as the value)."
   ]
  },
  {
   "cell_type": "code",
   "execution_count": 67,
   "metadata": {},
   "outputs": [
    {
     "data": {
      "text/plain": [
       "{'Paolo': 20, 'Pier': 60, 'Alex': 22, 'Mattia': 81, 'Luca': 24}"
      ]
     },
     "execution_count": 67,
     "metadata": {},
     "output_type": "execute_result"
    }
   ],
   "source": [
    "# Solution\n",
    "persons = dict()\n",
    "names = [\"Paolo\", \"Pier\", \"Alex\", \"Mattia\", \"Luca\"]\n",
    "ages = [20, 60, 22, 81, 24, 46]\n",
    "\n",
    "for i in range(5):\n",
    "    persons[names[i]] = ages[i]\n",
    "    \n",
    "persons"
   ]
  },
  {
   "cell_type": "markdown",
   "metadata": {},
   "source": [
    "### 2.2\n",
    "Given a new list of names, print the string `\"{name} is {age} years old\"` (e.g., \"Luca is 22 years old\") for each name present in the dictionary. If the name is not in the dictionary, print `\"{name} is not present in the dictionary\"` (e.g., \"Antonio is not present in the dictionary\").\n",
    "\n",
    "Help: To create an iterable with the keys of a dictionary, use the dictionary's `keys()` method (see the cell below for an example)."
   ]
  },
  {
   "cell_type": "code",
   "execution_count": 52,
   "metadata": {},
   "outputs": [
    {
     "name": "stdout",
     "output_type": "stream",
     "text": [
      "Tree\n",
      "Flower\n"
     ]
    }
   ],
   "source": [
    "# Hint\n",
    "dictionary = {\"Tree\": (\"trunk\", \"branches\"), \"Flower\": (\"stem\", \"petal\")}\n",
    "for name in dictionary.keys():\n",
    "    print(name)"
   ]
  },
  {
   "cell_type": "code",
   "execution_count": 68,
   "metadata": {},
   "outputs": [
    {
     "name": "stdout",
     "output_type": "stream",
     "text": [
      "Paolo is 20 years old\n",
      "Pier is 60 years old\n",
      "Antonio is not present in the dictionary\n",
      "Kevin is not present in the dictionary\n",
      "Mattia is 81 years old\n",
      "Alex is 22 years old\n",
      "Luca is 24 years old\n"
     ]
    }
   ],
   "source": [
    "# Solution\n",
    "names = [\"Paolo\", \"Pier\", \"Antonio\", \"Kevin\", \"Mattia\", \"Alex\", \"Luca\"]\n",
    "\n",
    "for name in names:\n",
    "    if(name in persons):\n",
    "        print(f\"{name} is {persons.get(name)} years old\")\n",
    "    else:\n",
    "        print(f\"{name} is not present in the dictionary\")"
   ]
  },
  {
   "cell_type": "markdown",
   "metadata": {},
   "source": [
    "### 2.3\n",
    "Write a program that, for each element of the dictionary, prints the following string `{name} is {age} years old`.\n",
    "\n",
    "Help: To access the elements of the dictionary one by one (considering the `key, value` pairs), use the `items()` method as shown above and in the example below."
   ]
  },
  {
   "cell_type": "code",
   "execution_count": 59,
   "metadata": {},
   "outputs": [
    {
     "name": "stdout",
     "output_type": "stream",
     "text": [
      "Tree ('trunk', 'branches')\n",
      "Flower ('stem', 'petal')\n"
     ]
    }
   ],
   "source": [
    "# Hint\n",
    "\n",
    "for name, age in dictionary.items():\n",
    "    print(f\"{name} {age}\")"
   ]
  },
  {
   "cell_type": "code",
   "execution_count": 60,
   "metadata": {},
   "outputs": [
    {
     "name": "stdout",
     "output_type": "stream",
     "text": [
      "Paolo is 20 years old\n",
      "Pier is 21 years old\n",
      "Alex is 22 years old\n",
      "Mattia is 23 years old\n",
      "Luca is 24 years old\n"
     ]
    }
   ],
   "source": [
    "# Solution\n",
    "for name, age in persons.items():\n",
    "    print(f\"{name} is {age} years old\")"
   ]
  },
  {
   "cell_type": "markdown",
   "metadata": {},
   "source": [
    "### 2.4\n",
    "Create a new dictionary that contains all the elements from the previous dictionary with ages between 23 years (inclusive) and 60 years (exclusive)."
   ]
  },
  {
   "cell_type": "code",
   "execution_count": 69,
   "metadata": {},
   "outputs": [
    {
     "data": {
      "text/plain": [
       "{'Luca': 24}"
      ]
     },
     "execution_count": 69,
     "metadata": {},
     "output_type": "execute_result"
    }
   ],
   "source": [
    "# Solution\n",
    "new_persons = dict()\n",
    "\n",
    "for person in persons.items():\n",
    "    k, v = person\n",
    "    if (v > 22) and (v < 60):\n",
    "        new_persons[k] = v\n",
    "\n",
    "new_persons"
   ]
  },
  {
   "cell_type": "markdown",
   "metadata": {},
   "source": [
    "## Esercizio 3 (strings)"
   ]
  },
  {
   "cell_type": "markdown",
   "metadata": {},
   "source": [
    "### 3.1\n",
    "Write a Python program that asks the user to input a sentence with at least 10 words. For simplicity, the sentence should not contain punctuation. Example of a sentence the user might enter: \"Today is a beautiful day Tomorrow will be a wonderful day\". Useful command to input a string from the command line: `input`.\n",
    "\n",
    "Once the sentence is entered, write a program that counts:\n",
    "- The number of words in the sentence. Useful command to create a list by splitting the string into words: `split` ([documentation](https://docs.python.org/3.6/library/stdtypes.html#str.split)).\n",
    "- The number of occurrences of each word in the sentence. Specifically, create a dictionary where the key is the word, and the value is the number of occurrences of that word. The count should be case-insensitive.\n",
    "- The number of occurrences of each letter in the sentence. Specifically, create a dictionary similar to the one above. The count should be case-insensitive.\n",
    "\n",
    "The cell below shows how the `input` and `split` commands work."
   ]
  },
  {
   "cell_type": "code",
   "execution_count": 70,
   "metadata": {},
   "outputs": [
    {
     "name": "stdout",
     "output_type": "stream",
     "text": [
      "['ciao', 'come', 'va']\n"
     ]
    }
   ],
   "source": [
    "# Hint\n",
    "string = input(\"Enter a sentence: \")\n",
    "words = string.split()\n",
    "print(words)"
   ]
  },
  {
   "cell_type": "code",
   "execution_count": 13,
   "metadata": {},
   "outputs": [
    {
     "name": "stdout",
     "output_type": "stream",
     "text": [
      "Number of words: 22\n",
      "Number of occurrences of each word: {'ciao': 1, 'ciaio': 1, 'qw': 2, 'e': 1, 'fafd': 1, 'wae': 1, 'f': 4, 'r': 1, 'fawfe': 1, 'wa': 1, 'fq': 1, 'waf': 1, 'q': 1, 'wf': 1, 'ew': 1, 'we': 1, 'ae': 1, 'fdqf': 1}\n",
      "Numbers of occurrences of each character: {'c': 2, 'i': 3, 'a': 8, 'o': 2, ' ': 22, 'q': 5, 'w': 9, 'e': 6, 'f': 13, 'd': 2, 'r': 1}\n"
     ]
    }
   ],
   "source": [
    "# Solution\n",
    "words = []\n",
    "sentence = \"\"\n",
    "while(len(words) < 10):\n",
    "    sentence = input(\"Enter a sentence at least 10 words.\")\n",
    "    words = sentence.split()\n",
    "\n",
    "words_dictionary = dict()\n",
    "for i in range(len(words)):\n",
    "    word = words[i].lower()\n",
    "    if(word not in words_dictionary):\n",
    "        words_dictionary[word] = 1\n",
    "    else:\n",
    "        words_dictionary[word] = words_dictionary[word] + 1\n",
    "        \n",
    "char_list = [x for x in sentence]\n",
    "chars_dictionary = dict()             \n",
    "for c in char_list:\n",
    "    char = c.lower()\n",
    "    if(char not in chars_dictionary):\n",
    "        chars_dictionary[char] = 1\n",
    "    else:\n",
    "        chars_dictionary[char] = chars_dictionary[char] + 1\n",
    "        \n",
    "\n",
    "print(f\"Number of words: {len(words)}\")\n",
    "print(f\"Number of occurrences of each word: {words_dictionary}\")\n",
    "print(f\"Numbers of occurrences of each character: {chars_dictionary}\")"
   ]
  },
  {
   "cell_type": "markdown",
   "metadata": {},
   "source": [
    "### 3.2 (optional)\n",
    "Write a Python program that, given a string (without punctuation), generates a new string by removing any duplicate words. The comparison for duplicate words should be case-insensitive. Useful command to create a string from a list: `join` [documentation](https://docs.python.org/3.6/library/stdtypes.html#str.join)."
   ]
  },
  {
   "cell_type": "code",
   "execution_count": 90,
   "metadata": {},
   "outputs": [
    {
     "name": "stdout",
     "output_type": "stream",
     "text": [
      "hello to everyone\n"
     ]
    }
   ],
   "source": [
    "# Hint\n",
    "wordList = ['hello', 'to', 'everyone']\n",
    "string = \" \".join(wordList)\n",
    "print(string)"
   ]
  },
  {
   "cell_type": "code",
   "execution_count": 94,
   "metadata": {},
   "outputs": [
    {
     "name": "stdout",
     "output_type": "stream",
     "text": [
      "ciao come va\n"
     ]
    }
   ],
   "source": [
    "# Solution\n",
    "string = input(\"Insert a string\")\n",
    "words = string.split()\n",
    "\n",
    "new_string = []\n",
    "for i in range(len(words)):\n",
    "    word = words[i].lower()\n",
    "    \n",
    "    if(word not in new_string):\n",
    "        new_string.append(word)\n",
    "    \n",
    "result = \" \".join(new_string)\n",
    "print(result)\n"
   ]
  },
  {
   "cell_type": "markdown",
   "metadata": {},
   "source": [
    "## Exercise 4 (optional)\n",
    "\n",
    "Write a Python program that reads a text file and calculates the number of words of each length present in the file.\n",
    "\n",
    "For example, the string \"This is the Data Science lecture\" contains:\n",
    "- 0 words of length 1\n",
    "- 1 word of length 2\n",
    "- 1 word of length 3\n",
    "- 2 words of length 4\n",
    "- 0 words of length 5\n",
    "- 0 words of length 6\n",
    "- 2 words of length 7\n",
    "\n",
    "Then try using [this file](https://raw.githubusercontent.com/google/snappy/main/testdata/alice29.txt).\n"
   ]
  },
  {
   "cell_type": "markdown",
   "metadata": {},
   "source": []
  },
  {
   "cell_type": "code",
   "execution_count": 14,
   "metadata": {
    "tags": []
   },
   "outputs": [
    {
     "name": "stdout",
     "output_type": "stream",
     "text": [
      "939 words of length 1\n",
      "3742 words of length 2\n",
      "6184 words of length 3\n",
      "5357 words of length 4\n",
      "3513 words of length 5\n",
      "2521 words of length 6\n",
      "1715 words of length 7\n",
      "1104 words of length 8\n",
      "671 words of length 9\n",
      "320 words of length 10\n",
      "167 words of length 11\n",
      "103 words of length 12\n",
      "57 words of length 13\n",
      "33 words of length 14\n",
      "12 words of length 15\n",
      "8 words of length 16\n",
      "6 words of length 17\n",
      "1 words of length 18\n",
      "0 words of length 19\n",
      "0 words of length 20\n",
      "1 words of length 21\n",
      "0 words of length 22\n",
      "0 words of length 23\n",
      "0 words of length 24\n",
      "2 words of length 25\n",
      "0 words of length 26\n",
      "1 words of length 27\n"
     ]
    }
   ],
   "source": [
    "# Hint: iterate over file lines\n",
    "f = open(\"demofile.txt\", \"r\")\n",
    "\n",
    "length_words = dict()\n",
    "for x in f:\n",
    "    for word in x.split():\n",
    "        if(len(word) not in length_words):\n",
    "            length_words[len(word)] = 1\n",
    "        else:\n",
    "            length_words[len(word)] = length_words[len(word)] + 1\n",
    "\n",
    "max_length = max(length_words.keys())\n",
    "\n",
    "for i in range(1, max_length + 1):\n",
    "    if(i not in length_words):\n",
    "        length_words[i] = 0\n",
    "        \n",
    "    print(f\"{length_words[i]} words of length {i}\")"
   ]
  },
  {
   "cell_type": "code",
   "execution_count": null,
   "metadata": {},
   "outputs": [],
   "source": []
  }
 ],
 "metadata": {
  "kernelspec": {
   "display_name": "Python 3 (ipykernel)",
   "language": "python",
   "name": "python3"
  },
  "language_info": {
   "codemirror_mode": {
    "name": "ipython",
    "version": 3
   },
   "file_extension": ".py",
   "mimetype": "text/x-python",
   "name": "python",
   "nbconvert_exporter": "python",
   "pygments_lexer": "ipython3",
   "version": "3.12.3"
  },
  "widgets": {
   "application/vnd.jupyter.widget-state+json": {
    "state": {},
    "version_major": 2,
    "version_minor": 0
   }
  }
 },
 "nbformat": 4,
 "nbformat_minor": 4
}
